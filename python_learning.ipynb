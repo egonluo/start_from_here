{
 "cells": [
  {
   "cell_type": "markdown",
   "metadata": {},
   "source": [
    "# List Comprehensions"
   ]
  },
  {
   "cell_type": "markdown",
   "metadata": {},
   "source": [
    "List comprehensions (\"listcomps\" for short) are syntax shortcuts for this general pattern:\n",
    "\n",
    "The traditional way, with for and if statements:"
   ]
  },
  {
   "cell_type": "code",
   "execution_count": null,
   "metadata": {},
   "outputs": [],
   "source": [
    "new_list = []\n",
    "for item in a_list:\n",
    "    if condition(item):\n",
    "        new_list.append(fn(item))"
   ]
  },
  {
   "cell_type": "markdown",
   "metadata": {},
   "source": [
    "As a list comprehension:"
   ]
  },
  {
   "cell_type": "code",
   "execution_count": null,
   "metadata": {},
   "outputs": [],
   "source": [
    "new_list = [fn(item) for item in a_list\n",
    "            if condition(item)]"
   ]
  },
  {
   "cell_type": "markdown",
   "metadata": {},
   "source": [
    "Listcomps are clear & concise, up to a point. You can have multiple for-loops and if-conditions in a listcomp, but beyond two or three total, or if the conditions are complex, I suggest that regular for loops should be used. Applying the Zen of Python, choose the more readable way."
   ]
  },
  {
   "cell_type": "markdown",
   "metadata": {},
   "source": [
    "# Using functools.wraps to preserve docstrings and function name"
   ]
  },
  {
   "cell_type": "markdown",
   "metadata": {},
   "source": [
    "Unfortunately, one of the side effects of using decorators is that the method's name (__name__) and docstring (__doc__) values are not preserved\n",
    "\n",
    "To resolve this, you can use a 'wraps' decorator to attach the name and docstring:\n",
    "From <http://y.tsutsumi.io/dry-principles-through-python-decorators.html> "
   ]
  },
  {
   "cell_type": "code",
   "execution_count": null,
   "metadata": {},
   "outputs": [],
   "source": [
    "from functools import wraps\n",
    "def increment(f):\n",
    "    \"\"\" Increment a function result \"\"\"\n",
    "    @wraps(f)\n",
    "    wrapped_f(a, b):\n",
    "        return f(a, b) + 1\n",
    "    return wrapped_f\n",
    "@increment\n",
    "def plus(a, b)\n",
    "    \"\"\" Add two things together \"\"\"\n",
    "    return a + b\n",
    "plus.__name__  # this returns 'plus'\n",
    "plus.__doc__   # this returns 'Add two things together'\n"
   ]
  },
  {
   "cell_type": "markdown",
   "metadata": {},
   "source": [
    "Pickle\n",
    "\n",
    "Python provides a standard module called pickle using which you can store any plain Python object in a file and then get it back later. This is called storing the object persistently."
   ]
  },
  {
   "cell_type": "code",
   "execution_count": null,
   "metadata": {},
   "outputs": [],
   "source": [
    "\n",
    "__doc__\n",
    "__name__\n"
   ]
  },
  {
   "cell_type": "markdown",
   "metadata": {},
   "source": [
    "# Dictionary"
   ]
  },
  {
   "cell_type": "markdown",
   "metadata": {},
   "source": [
    "d.items\n",
    "\n",
    "d.keys\n",
    "\n",
    "Sort dictionary:\n",
    "http://code.activestate.com/recipes/52306/\n",
    "\n",
    "Keys = d.keys()\n",
    "Keys.sort()\n",
    "Return [d[key] for key in keys]\n"
   ]
  },
  {
   "cell_type": "markdown",
   "metadata": {},
   "source": [
    "# List"
   ]
  },
  {
   "cell_type": "markdown",
   "metadata": {},
   "source": [
    "\n",
    "负数索引从 list 的尾部开始向前计数来存取元素\n",
    "\n",
    "可以这样理解：li[-n] == li[len(li) - n]\n",
    "\n",
    "li[:] 是生成一个 list 完全拷贝的一个简写。\n"
   ]
  },
  {
   "cell_type": "markdown",
   "metadata": {},
   "source": [
    "# Tuple"
   ]
  },
  {
   "cell_type": "markdown",
   "metadata": {},
   "source": [
    "当分割一个 list 时，会得到一个新的 list ；当分割一个 tuple 时，会得到一个新的 tuple"
   ]
  },
  {
   "cell_type": "markdown",
   "metadata": {},
   "source": [
    "# `__buildin__`"
   ]
  },
  {
   "cell_type": "markdown",
   "metadata": {},
   "source": [
    "type 函数返回任意对象的数据类型\n",
    "\n",
    "str 将数据强制转换为字符串\n",
    "\n",
    "dir 函数返回任意对象的属性和方法列表，包括模块对象、函数对象、字符串对象、列表对象、字典对象\n",
    "\n",
    "callable 函数，它接收任何对象作为参数，如果参数对象是可调用的，返回 True；否则返回 False\n",
    "\n",
    "type、str、dir 和其它的 Python 内置函数都归组到了 `__builtin__` (前后分别是双下划线) 这个特殊的模块中"
   ]
  },
  {
   "cell_type": "markdown",
   "metadata": {},
   "source": [
    "`__init__`\n",
    "当定义你自已的类方法时，你必须 明确将 self 作为每个方法的第一个参数列出，包括 `__init__`。当从你的类中调用一个父类的一个方法时，你必须包括 self 参数。但当你从类的外部调用你的类方法时，你不必对 self 参数指定任何值；你完全将其忽略\n",
    "`__init__` 方法是可选的，但是一旦你定义了，就必须记得显示调用父类的 `__init__` 方法 (如果它定义了的话)。这样更是正确的：无论何时子类想扩展父类的行为，后代方法必须在适当的时机，使用适当的参数，显式调用父类方法。\n",
    "\n",
    "`__getitem__`\n",
    "\n",
    "`__setitem__`\n",
    "\n",
    "`__repr__` 是一个专用的方法，在当调用 repr(instance) 时被调用。repr 函数是一个内置函数，它返回一个对象的字符串表示。它可以用在任何对象上，不仅仅是类的实例。你已经对 repr 相当熟悉了，尽管你不知道它。在交互式窗口中，当你只敲入一个变量名，接着按ENTER，Python 使用 repr 来显示变量的值。自已用一些数据来创建一个字典 d ，然后用 print repr(d) 来看一看吧。\n",
    "\n",
    "`__cmp__` 在比较类实例时被调用。通常，你可以通过使用 == 比较任意两个 Python 对象，不只是类实例。有一些规则，定义了何时内置数据类型被认为是相等的，例如，字典在有着全部相同的关键字和值时是相等的。对于类实例，你可以定义 `__cmp__` 方法，自已编写比较逻辑，然后你可以使用 == 来比较你的类，Python 将会替你调用你的 `__cmp__` 专用方法。\n",
    "\n",
    "`__len__` 在调用 len(instance) 时被调用。len 是一个内置函数，可以返回一个对象的长度。它可以用于任何被认为理应有长度的对象。字符串的 len 是它的字符个数；字典的 len 是它的关键字的个数；列表或序列的 len 是元素的个数。对于类实例，定义 `__len__` 方法，接着自已编写长度的计算，然后调用 len(instance)，Python 将替你调用你的 `__len__` 专用方法。\n",
    "\n",
    "`__delitem__` 在调用 del instance[key] 时调用 ，你可能记得它作为从字典中删除单个元素的方法。当你在类实例中使用 del 时，Python 替你调用 `__delitem__` 专用方法。\n",
    "一个 Python 函数，类方法，或属性的名字以两个下划线开始 (但不是结束)，它是私有的\n",
    "你可以通过 _MP3FileInfo__parse 名字来使用 MP3FileInfo 类的 `__parse` 方法。知道了这个方法很有趣，然后要保证决不在真正的代码中使用它。\n"
   ]
  },
  {
   "cell_type": "markdown",
   "metadata": {},
   "source": [
    "# regex"
   ]
  },
  {
   "cell_type": "markdown",
   "metadata": {},
   "source": [
    "Python 允许用户利用所谓的松散正则表达式 来完成这个任务。一个松散正则表达式和一个紧凑正则表达式主要区别表现在两个方面：\n",
    "\n",
    "-忽略空白符。空格符，制表符，回车符不匹配它们自身，它们根本不参与匹配。(如果你想在松散正则表达式中匹配一个空格符，你必须在它前面添加一个反斜线符号对它进行转义。)\n",
    "\n",
    "-忽略注释。在松散正则表达式中的注释和在普通 Python 代码中的一样：开始于一个#符号，结束于行尾。这种情况下，采用在一个多行字符串中注释，而不是在源代码中注释，它们以相同的方式工作。"
   ]
  },
  {
   "cell_type": "code",
   "execution_count": null,
   "metadata": {},
   "outputs": [],
   "source": [
    "pattern = \"\"\"\n",
    "    ^                   # beginning of string\n",
    "    M{0,3}              # thousands - 0 to 3 M's\n",
    "    (CM|CD|D?C{0,3})    # hundreds - 900 (CM), 400 (CD), 0-300 (0 to 3 C's),\n",
    "                        #            or 500-800 (D, followed by 0 to 3 C's)\n",
    "    (XC|XL|L?X{0,3})    # tens - 90 (XC), 40 (XL), 0-30 (0 to 3 X's),\n",
    "                        #        or 50-80 (L, followed by 0 to 3 X's)\n",
    "    (IX|IV|V?I{0,3})    # ones - 9 (IX), 4 (IV), 0-3 (0 to 3 I's),\n",
    "                        #        or 5-8 (V, followed by 0 to 3 I's)\n",
    "    $                   # end of string\n",
    "    \"\"\"\n",
    "\n",
    "re.search(pattern, 'M', re.VERBOSE)\n"
   ]
  },
  {
   "cell_type": "markdown",
   "metadata": {},
   "source": [
    "```\n",
    "^ 匹配字符串的开始。\n",
    "$ 匹配字符串的结尾。\n",
    "\\b 匹配一个单词的边界。\n",
    "\\d 匹配任意数字。\n",
    "\\D 匹配任意非数字字符。\n",
    "x? 匹配一个可选的 x 字符 (换言之，它匹配 1 次或者 0 次 x 字符)。\n",
    "x* 匹配0次或者多次 x 字符。\n",
    "x+ 匹配1次或者多次 x 字符。\n",
    "x{n,m} 匹配 x 字符，至少 n 次，至多 m 次。\n",
    "(a|b|c) 要么匹配 a，要么匹配 b，要么匹配 c。\n",
    "(x) 一般情况下表示一个记忆组 (remembered group)。你可以利用 re.search 函数返回对象的 groups() 函数获取它的值。\n",
    "```"
   ]
  },
  {
   "cell_type": "markdown",
   "metadata": {},
   "source": [
    "# unicode字符串\n",
    "encode('latin-1') convert to \n"
   ]
  },
  {
   "cell_type": "code",
   "execution_count": null,
   "metadata": {},
   "outputs": [],
   "source": [
    "#!/usr/bin/env python\n",
    "# -*- coding: UTF-8 -*-"
   ]
  }
 ],
 "metadata": {
  "kernelspec": {
   "display_name": "Python 2",
   "language": "python",
   "name": "python2"
  },
  "language_info": {
   "codemirror_mode": {
    "name": "ipython",
    "version": 2
   },
   "file_extension": ".py",
   "mimetype": "text/x-python",
   "name": "python",
   "nbconvert_exporter": "python",
   "pygments_lexer": "ipython2",
   "version": "2.7.12"
  }
 },
 "nbformat": 4,
 "nbformat_minor": 2
}
